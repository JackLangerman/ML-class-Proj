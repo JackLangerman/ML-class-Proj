{
 "cells": [
  {
   "cell_type": "markdown",
   "metadata": {
    "deletable": true,
    "editable": true
   },
   "source": [
    "## Test Tic Tac Toe + Tensorflow"
   ]
  },
  {
   "cell_type": "markdown",
   "metadata": {
    "deletable": true,
    "editable": true
   },
   "source": [
    "#### first make sure tensorflow works"
   ]
  },
  {
   "cell_type": "code",
   "execution_count": 1,
   "metadata": {
    "collapsed": false,
    "deletable": true,
    "editable": true
   },
   "outputs": [
    {
     "name": "stdout",
     "output_type": "stream",
     "text": [
      "Tensor(\"Const:0\", shape=(), dtype=float32) Tensor(\"Const_1:0\", shape=(), dtype=float32)\n",
      "[3.0, 4.0]\n",
      "node3:  Tensor(\"Add:0\", shape=(), dtype=float32)\n",
      "sess.run(node3):  7.0\n"
     ]
    }
   ],
   "source": [
    "import tensorflow as tf\n",
    "\n",
    "node1 = tf.constant(3.0, tf.float32)\n",
    "node2 = tf.constant(4.0) # also tf.float32 implicitly\n",
    "print(node1, node2)\n",
    "\n",
    "\n",
    "sess = tf.Session()\n",
    "print(sess.run([node1, node2]))\n",
    "\n",
    "\n",
    "node3 = tf.add(node1, node2)\n",
    "print(\"node3: \", node3)\n",
    "print(\"sess.run(node3): \",sess.run(node3))"
   ]
  },
  {
   "cell_type": "markdown",
   "metadata": {
    "deletable": true,
    "editable": true
   },
   "source": [
    "### Test User Input"
   ]
  },
  {
   "cell_type": "code",
   "execution_count": 1,
   "metadata": {
    "collapsed": false,
    "deletable": true,
    "editable": true,
    "scrolled": true
   },
   "outputs": [
    {
     "name": "stdout",
     "output_type": "stream",
     "text": [
      "what? \n",
      "\n",
      "q\n",
      "you said q!? to me! naaawwwwww\n",
      "peace\n"
     ]
    }
   ],
   "source": [
    "while True:\n",
    "    print(\"what? \\n\")\n",
    "    a = input()\n",
    "    print(\"you said {}!? to me! naaawwwwww\".format(a))\n",
    "    if a == \"q\":\n",
    "        print(\"peace\")\n",
    "        break"
   ]
  },
  {
   "cell_type": "markdown",
   "metadata": {
    "deletable": true,
    "editable": true
   },
   "source": [
    "### Now make Tic Tac Toe"
   ]
  },
  {
   "cell_type": "code",
   "execution_count": 149,
   "metadata": {
    "collapsed": false,
    "deletable": true,
    "editable": true
   },
   "outputs": [],
   "source": [
    "class Board:\n",
    "    \n",
    "    def __init__(self, p1, p2):\n",
    "        self.state = [['-', '-', '-'],\n",
    "                      ['-', '-', '-'],\n",
    "                      ['-', '-', '-']]\n",
    "\n",
    "        self.p1 = p1\n",
    "        self.p2 = p2\n",
    "        \n",
    "    def __str__(self):\n",
    "        return (\"\\n\".join([\" \".join(line) for line in self.state]))\n",
    "\n",
    "#     def getMove(player):\n",
    "#         move, token = player.getMove(self.state)\n",
    "    def isLegal(self, move):\n",
    "#         print(move[0], move[1])\n",
    "        return (move[0] >= 0 and move[0] < 3 \n",
    "                and move[1] >= 0 and move[1] < 3 \n",
    "                and self.state[move[0]][move[1]] == '-')\n",
    "            \n",
    "    def apply(self, move, token):\n",
    "#         print(\"token in apply: \",token)\n",
    "        self.state[move[0]][move[1]] = token\n",
    "        \n",
    "        \n",
    "    def draw(self):\n",
    "        draw = True\n",
    "        for r in self.state:\n",
    "            for t in r:\n",
    "                draw = draw and t=='-'\n",
    "        \n",
    "        \n",
    "    def winner(self):\n",
    "#         print(self.state[0][0])\n",
    "#         return False\n",
    "        c00 = self.state[0][0] != '-'\n",
    "        c11 = self.state[1][1] != '-'\n",
    "        c22 = self.state[2][2] != '-'\n",
    "        \n",
    "#         print(\"NotBlank {}{}{}\".format(c00, c11, c22))\n",
    "        \n",
    "        r0dc0 = (  #r0 d c0\n",
    "                (self.state[0][0]==self.state[0][1] and self.state[0][1]==self.state[0][2]) or\n",
    "                (self.state[0][0]==self.state[1][1] and self.state[1][1]==self.state[2][2]) or\n",
    "                (self.state[0][0]==self.state[1][0] and self.state[1][0]==self.state[2][0]) \n",
    "               )\n",
    "        r1c1sd = ( #r1 c1 sd\n",
    "                (self.state[1][0]==self.state[1][1] and self.state[1][1]==self.state[1][2]) or\n",
    "                (self.state[0][1]==self.state[1][1] and self.state[1][1]==self.state[2][1])   or\n",
    "                (self.state[0][2]==self.state[1][1] and self.state[1][1]==self.state[2][0])\n",
    "               )\n",
    "        c2r2 = ( #c2 r2\n",
    "                (self.state[0][2]==self.state[1][2] and self.state[1][2]==self.state[2][2]) or\n",
    "                (self.state[2][0]==self.state[2][1] and self.state[2][1]==self.state[2][2])\n",
    "               )\n",
    "        win = (   (  c00 and r0dc0) or (c11 and r1c1sd) or (c22 and c2r2) )\n",
    "        \n",
    "#         print(r0dc0, r1c1sd, c2r2, \"|\",win,\"|\", c00, c11, c22)\n",
    "        \n",
    "        return win\n",
    "\n",
    "    def gameOver(self):\n",
    "        return self.draw() or self.winner()\n",
    "    "
   ]
  },
  {
   "cell_type": "code",
   "execution_count": 150,
   "metadata": {
    "collapsed": false,
    "deletable": true,
    "editable": true
   },
   "outputs": [
    {
     "name": "stdout",
     "output_type": "stream",
     "text": [
      "- - -\n",
      "- - -\n",
      "- - - False \n",
      "\n",
      "X - -\n",
      "- X -\n",
      "- - X True \n",
      "\n",
      "- - X\n",
      "- X -\n",
      "X - - True \n",
      "\n",
      "X - -\n",
      "X - -\n",
      "X - - True \n",
      "\n",
      "- X -\n",
      "- X -\n",
      "- X - True \n",
      "\n",
      "- - X\n",
      "- - X\n",
      "- - X True \n",
      "\n",
      "X X X\n",
      "- - -\n",
      "- - - True \n",
      "\n",
      "- - -\n",
      "X X X\n",
      "- - - True \n",
      "\n",
      "- - -\n",
      "- - -\n",
      "X X X True \n",
      "\n",
      "O - -\n",
      "- O -\n",
      "- - O True \n",
      "\n",
      "- - O\n",
      "- O -\n",
      "O - - True \n",
      "\n",
      "O - -\n",
      "O - -\n",
      "O - - True \n",
      "\n",
      "- O -\n",
      "- O -\n",
      "- O - True \n",
      "\n",
      "- - O\n",
      "- - O\n",
      "- - O True \n",
      "\n",
      "O O O\n",
      "- - -\n",
      "- - - True \n",
      "\n",
      "- - -\n",
      "O O O\n",
      "- - - True \n",
      "\n",
      "- - -\n",
      "- - -\n",
      "O O O True \n",
      "\n"
     ]
    }
   ],
   "source": [
    "b = Board(1, 2)\n",
    "b.state = [['-', '-', '-'], ['-', '-', '-'], ['-', '-', '-']]\n",
    "print(b, b.gameOver(),\"\\n\")\n",
    "\n",
    "b.state = [['X', '-', '-'], ['-', 'X', '-'], ['-', '-', 'X']]\n",
    "print(b, b.gameOver(),\"\\n\")\n",
    "b.state = [['-', '-', 'X'], ['-', 'X', '-'], ['X', '-', '-']]\n",
    "print(b, b.gameOver(),\"\\n\")\n",
    "\n",
    "b.state = [['X', '-', '-'], ['X', '-', '-'], ['X', '-', '-']]\n",
    "print(b, b.gameOver(),\"\\n\")\n",
    "b.state = [['-', 'X', '-'], ['-', 'X', '-'], ['-', 'X', '-']]\n",
    "print(b, b.gameOver(),\"\\n\")\n",
    "b.state = [['-', '-', 'X'], ['-', '-', 'X'], ['-', '-', 'X']]\n",
    "print(b, b.gameOver(),\"\\n\")\n",
    "\n",
    "b.state = [['X', 'X', 'X'], ['-', '-', '-'], ['-', '-', '-']]\n",
    "print(b, b.gameOver(),\"\\n\")\n",
    "b.state = [['-', '-', '-'], ['X', 'X', 'X'], ['-', '-', '-']]\n",
    "print(b, b.gameOver(),\"\\n\")\n",
    "b.state = [['-', '-', '-'], ['-', '-', '-'], ['X', 'X', 'X']]\n",
    "print(b, b.gameOver(),\"\\n\")\n",
    "\n",
    "\n",
    "\n",
    "\n",
    "b.state = [['O', '-', '-'], ['-', 'O', '-'], ['-', '-', 'O']]\n",
    "print(b, b.gameOver(),\"\\n\")\n",
    "b.state = [['-', '-', 'O'], ['-', 'O', '-'], ['O', '-', '-']]\n",
    "print(b, b.gameOver(),\"\\n\")\n",
    "\n",
    "b.state = [['O', '-', '-'], ['O', '-', '-'], ['O', '-', '-']]\n",
    "print(b, b.gameOver(),\"\\n\")\n",
    "b.state = [['-', 'O', '-'], ['-', 'O', '-'], ['-', 'O', '-']]\n",
    "print(b, b.gameOver(),\"\\n\")\n",
    "b.state = [['-', '-', 'O'], ['-', '-', 'O'], ['-', '-', 'O']]\n",
    "print(b, b.gameOver(),\"\\n\")\n",
    "\n",
    "b.state = [['O', 'O', 'O'], ['-', '-', '-'], ['-', '-', '-']]\n",
    "print(b, b.gameOver(),\"\\n\")\n",
    "b.state = [['-', '-', '-'], ['O', 'O', 'O'], ['-', '-', '-']]\n",
    "print(b, b.gameOver(),\"\\n\")\n",
    "b.state = [['-', '-', '-'], ['-', '-', '-'], ['O', 'O', 'O']]\n",
    "print(b, b.gameOver(),\"\\n\")\n",
    "\n"
   ]
  },
  {
   "cell_type": "code",
   "execution_count": 151,
   "metadata": {
    "collapsed": false,
    "deletable": true,
    "editable": true
   },
   "outputs": [
    {
     "name": "stdout",
     "output_type": "stream",
     "text": [
      "1\n",
      "2 \n",
      "\n",
      "- - -\n",
      "- - -\n",
      "O O O\n"
     ]
    }
   ],
   "source": [
    "print(b.p1)\n",
    "print(b.p2,\"\\n\")\n",
    "# print(b.state)\n",
    "print(b)"
   ]
  },
  {
   "cell_type": "code",
   "execution_count": 152,
   "metadata": {
    "collapsed": false,
    "deletable": true,
    "editable": true
   },
   "outputs": [],
   "source": [
    "class TicTacToe:\n",
    "    def __init__(self, p1, p2):\n",
    "        self.board = Board(p1,p2)\n",
    "        self.p1 = p1\n",
    "        self.p2 = p2\n",
    "    \n",
    "    def play(self):\n",
    "        cur = self.p1\n",
    "\n",
    "        while True:\n",
    "            move = cur.getMove(self.board)\n",
    "            if self.board.isLegal(move):\n",
    "               \n",
    "                self.board.apply(move, cur.token)\n",
    "#                 print(\"change\")\n",
    "#                 print(\"pre token\", cur.token)\n",
    "#                 print(\"player = \",cur.token)\n",
    "#                 print (cur.token, p1.token, p2.token)\n",
    "#                 print(\"post token\", cur.token)\n",
    "#                 print(cur.token, cur, p1, p2)\n",
    "                \n",
    "                if self.board.winner():\n",
    "                    print(\"And the winner is...\\n...{}\".format(cur.token))\n",
    "                    print(cur)\n",
    "                    break\n",
    "                if self.board.draw():\n",
    "                    print(\"Its a draw...\")\n",
    "                    break\n",
    "                \n",
    "                if cur == self.p2:\n",
    "                    cur = self.p1\n",
    "                else:\n",
    "                    cur = self.p2\n",
    "            else:\n",
    "                print(\"illegal\")\n",
    "                cur.illegal()\n",
    "        \n",
    "        print(self.board)\n",
    "        return cur.token\n",
    "                \n",
    "            \n",
    "            "
   ]
  },
  {
   "cell_type": "code",
   "execution_count": 153,
   "metadata": {
    "collapsed": false,
    "deletable": true,
    "editable": true
   },
   "outputs": [],
   "source": [
    "import random\n",
    "from random import randint\n",
    "\n",
    "class Player:\n",
    "    def __init__(self, token):\n",
    "        self.token = token\n",
    "    \n",
    "    def illegal(self):\n",
    "        return None\n",
    "    \n",
    "    def getMove(self, board):\n",
    "        print(\"this should be implemented\")\n",
    "        \n",
    "        \n",
    "class HumanPlayer(Player):  \n",
    "    def getMove(self, board):\n",
    "        print(\"The board state is as follows:\")\n",
    "        print(board)\n",
    "        print(\"your token is\", self.token)\n",
    "        print(\"\\nWhat is your move (row col)?\".format(board))\n",
    "        raw = input()\n",
    "        spltRaw = raw.split(\" \")\n",
    "        move = (int(spltRaw[0]), int(spltRaw[1]))\n",
    "        print(move)\n",
    "        return move\n",
    "    \n",
    "class RandomPlayer(Player):\n",
    "    def getMove(self, board):\n",
    "        move = (random.randint(0, 2), random.randint(0, 2))\n",
    "        return move\n"
   ]
  },
  {
   "cell_type": "code",
   "execution_count": 160,
   "metadata": {
    "collapsed": false,
    "deletable": true,
    "editable": true
   },
   "outputs": [],
   "source": [
    "import numpy as np\n",
    "# import tensorflow as tf\n",
    "from sklearn import linear_model\n",
    " \n",
    "\n",
    "class LearningPlayer(Player):\n",
    "    def __init__(self, token):\n",
    "        Player.__init__(self, token)\n",
    "\n",
    "        # build a model\n",
    "#         node1 = tf.constant(3.0, tf.float32)\n",
    "#         node2 = tf.constant(4.0) # also tf.float32 implicitly\n",
    "#         print(node1, node2)\n",
    "\n",
    "#         sess = tf.Session()\n",
    "#         print(sess.run([node1, node2]))\n",
    "\n",
    "\n",
    "#         node3 = tf.add(node1, node2)\n",
    "#         print(\"node3: \", node3)\n",
    "#         print(\"sess.run(node3): \",sess.run(node3))\n",
    "        self.model = linear_model.LogisticRegression(C=1e5)\n",
    "        self.model.fit(np.random.randn(10, 18), np.random.randint(9, size=10))\n",
    "    \n",
    "    def train(self, opponent):\n",
    "        game = None\n",
    "        if self.token == 'X':\n",
    "            game = TicTacToe(self, opponent)\n",
    "        else:\n",
    "            game = TicTacToe(opponent, self)\n",
    "        \n",
    "        winner = game.play()\n",
    "        if winner == self.token:\n",
    "            print(\"I won\")\n",
    "        else:\n",
    "            print(\"I lost\")\n",
    "        \n",
    "    def getMove(self, board):\n",
    "#         print(board,\"\\n\")\n",
    "#         pred = self.model.predict(self.boardToFeatureVec(board))\n",
    "#         print(pred)\n",
    "#         move(np.floor(pred[0]/3), pred[0]%3)\n",
    "        pred = self.model.predict_proba(self.boardToFeatureVec(board))\n",
    "#         print(pred)\n",
    "#         print(np.sum(pred))\n",
    "#         move = (np.floor(pred[0]/3), pred[0]%3)\n",
    "#         print(\"PRED->\",pred)\n",
    "#         print(np.argmax(pred))\n",
    "        \n",
    "        while True:\n",
    "            sortedIdx = np.argsort(pred)\n",
    "#             print(pred)\n",
    "#             print(sortedIdx)\n",
    "            for mv in reversed(*sortedIdx):\n",
    "#                 print(\"prop move = \",mv)\n",
    "                move = (int(np.floor(mv/3)), int(mv%3))\n",
    "#                 print(\"=> \", move,\"\\n\")\n",
    "                if board.isLegal(move):\n",
    "                    return move\n",
    "#             mv = np.argmax(pred)\n",
    "#             move = (int(np.floor(mv/3)), int(mv%3))\n",
    "# #             print(move[0], move[1], \"<-moves\")\n",
    "#             if board.isLegal(move):\n",
    "#                 return move\n",
    "#             print(\"----------\")\n",
    "# #             print(pred.shape)\n",
    "#             print(pred)\n",
    "# #             print(np.arange(0,10))\n",
    "\n",
    "#             print(np.arange(0,len(pred)),\"|||\", mv,\"/\",move, \"|||\", np.arange(0,len(pred))==mv)\n",
    "#             pred = pred[np.arange(0,len(pred)) != np.round(mv)]       \n",
    "#             print(pred)\n",
    "\n",
    "#             print(\"----------\")\n",
    "# #             print (pred)\n",
    "# #             print(self.model)\n",
    "        \n",
    "    \n",
    "    def boardToFeatureVec(self, board):\n",
    "        vec = np.zeros((1, 18))\n",
    "#         print(\"bbbbb\",board,\"|||\",type(board))\n",
    "        for i, r in enumerate(board.state):\n",
    "            for j, t in enumerate(r):\n",
    "                vec[0][(i*3+j)*2 + (1 if t=='O' else 0)] = 1 if board.state[i][j]!='-' else 0\n",
    "        return vec"
   ]
  },
  {
   "cell_type": "code",
   "execution_count": 161,
   "metadata": {
    "collapsed": false,
    "deletable": true,
    "editable": true
   },
   "outputs": [
    {
     "name": "stdout",
     "output_type": "stream",
     "text": [
      "And the winner is...\n",
      "...X\n",
      "<__main__.RandomPlayer object at 0x109544fd0>\n",
      "- X O\n",
      "O X -\n",
      "- X -\n",
      "I lost\n"
     ]
    }
   ],
   "source": [
    "\n",
    "# lrn = LearningPlayer('O')\n",
    "# print(b)\n",
    "# print(b.state)\n",
    "# lrn.boardToFeatureVec(b)\n",
    "\n",
    "lrnX = LearningPlayer('O')\n",
    "rndm = RandomPlayer('X')\n",
    "lrnX.train(rndm)"
   ]
  },
  {
   "cell_type": "code",
   "execution_count": 156,
   "metadata": {
    "collapsed": false,
    "deletable": true,
    "editable": true
   },
   "outputs": [],
   "source": [
    "p1, p2 = HumanPlayer('X'), RandomPlayer('O')\n",
    "ttt = TicTacToe(p1, p2)"
   ]
  },
  {
   "cell_type": "code",
   "execution_count": 157,
   "metadata": {
    "collapsed": false,
    "deletable": true,
    "editable": true
   },
   "outputs": [
    {
     "name": "stdout",
     "output_type": "stream",
     "text": [
      "The board state is as follows:\n",
      "- - -\n",
      "- - -\n",
      "- - -\n",
      "your token is X\n",
      "\n",
      "What is your move (row col)?\n",
      "\n"
     ]
    },
    {
     "ename": "ValueError",
     "evalue": "invalid literal for int() with base 10: ''",
     "output_type": "error",
     "traceback": [
      "\u001b[0;31m---------------------------------------------------------------------------\u001b[0m",
      "\u001b[0;31mValueError\u001b[0m                                Traceback (most recent call last)",
      "\u001b[0;32m<ipython-input-157-03b0957b1934>\u001b[0m in \u001b[0;36m<module>\u001b[0;34m()\u001b[0m\n\u001b[0;32m----> 1\u001b[0;31m \u001b[0mttt\u001b[0m\u001b[0;34m.\u001b[0m\u001b[0mplay\u001b[0m\u001b[0;34m(\u001b[0m\u001b[0;34m)\u001b[0m\u001b[0;34m\u001b[0m\u001b[0m\n\u001b[0m",
      "\u001b[0;32m<ipython-input-152-33bee7471595>\u001b[0m in \u001b[0;36mplay\u001b[0;34m(self)\u001b[0m\n\u001b[1;32m      9\u001b[0m \u001b[0;34m\u001b[0m\u001b[0m\n\u001b[1;32m     10\u001b[0m         \u001b[0;32mwhile\u001b[0m \u001b[0;32mTrue\u001b[0m\u001b[0;34m:\u001b[0m\u001b[0;34m\u001b[0m\u001b[0m\n\u001b[0;32m---> 11\u001b[0;31m             \u001b[0mmove\u001b[0m \u001b[0;34m=\u001b[0m \u001b[0mcur\u001b[0m\u001b[0;34m.\u001b[0m\u001b[0mgetMove\u001b[0m\u001b[0;34m(\u001b[0m\u001b[0mself\u001b[0m\u001b[0;34m.\u001b[0m\u001b[0mboard\u001b[0m\u001b[0;34m)\u001b[0m\u001b[0;34m\u001b[0m\u001b[0m\n\u001b[0m\u001b[1;32m     12\u001b[0m             \u001b[0;32mif\u001b[0m \u001b[0mself\u001b[0m\u001b[0;34m.\u001b[0m\u001b[0mboard\u001b[0m\u001b[0;34m.\u001b[0m\u001b[0misLegal\u001b[0m\u001b[0;34m(\u001b[0m\u001b[0mmove\u001b[0m\u001b[0;34m)\u001b[0m\u001b[0;34m:\u001b[0m\u001b[0;34m\u001b[0m\u001b[0m\n\u001b[1;32m     13\u001b[0m \u001b[0;34m\u001b[0m\u001b[0m\n",
      "\u001b[0;32m<ipython-input-153-4a2bd1ec7f3f>\u001b[0m in \u001b[0;36mgetMove\u001b[0;34m(self, board)\u001b[0m\n\u001b[1;32m     21\u001b[0m         \u001b[0mraw\u001b[0m \u001b[0;34m=\u001b[0m \u001b[0minput\u001b[0m\u001b[0;34m(\u001b[0m\u001b[0;34m)\u001b[0m\u001b[0;34m\u001b[0m\u001b[0m\n\u001b[1;32m     22\u001b[0m         \u001b[0mspltRaw\u001b[0m \u001b[0;34m=\u001b[0m \u001b[0mraw\u001b[0m\u001b[0;34m.\u001b[0m\u001b[0msplit\u001b[0m\u001b[0;34m(\u001b[0m\u001b[0;34m\" \"\u001b[0m\u001b[0;34m)\u001b[0m\u001b[0;34m\u001b[0m\u001b[0m\n\u001b[0;32m---> 23\u001b[0;31m         \u001b[0mmove\u001b[0m \u001b[0;34m=\u001b[0m \u001b[0;34m(\u001b[0m\u001b[0mint\u001b[0m\u001b[0;34m(\u001b[0m\u001b[0mspltRaw\u001b[0m\u001b[0;34m[\u001b[0m\u001b[0;36m0\u001b[0m\u001b[0;34m]\u001b[0m\u001b[0;34m)\u001b[0m\u001b[0;34m,\u001b[0m \u001b[0mint\u001b[0m\u001b[0;34m(\u001b[0m\u001b[0mspltRaw\u001b[0m\u001b[0;34m[\u001b[0m\u001b[0;36m1\u001b[0m\u001b[0;34m]\u001b[0m\u001b[0;34m)\u001b[0m\u001b[0;34m)\u001b[0m\u001b[0;34m\u001b[0m\u001b[0m\n\u001b[0m\u001b[1;32m     24\u001b[0m         \u001b[0mprint\u001b[0m\u001b[0;34m(\u001b[0m\u001b[0mmove\u001b[0m\u001b[0;34m)\u001b[0m\u001b[0;34m\u001b[0m\u001b[0m\n\u001b[1;32m     25\u001b[0m         \u001b[0;32mreturn\u001b[0m \u001b[0mmove\u001b[0m\u001b[0;34m\u001b[0m\u001b[0m\n",
      "\u001b[0;31mValueError\u001b[0m: invalid literal for int() with base 10: ''"
     ]
    }
   ],
   "source": [
    "ttt.play()"
   ]
  },
  {
   "cell_type": "code",
   "execution_count": 158,
   "metadata": {
    "collapsed": false,
    "deletable": true,
    "editable": true
   },
   "outputs": [
    {
     "name": "stdout",
     "output_type": "stream",
     "text": [
      "- - -\n",
      "- - -\n",
      "O O O\n"
     ]
    }
   ],
   "source": [
    "print(b)\n"
   ]
  },
  {
   "cell_type": "code",
   "execution_count": null,
   "metadata": {
    "collapsed": true,
    "deletable": true,
    "editable": true
   },
   "outputs": [],
   "source": []
  }
 ],
 "metadata": {
  "kernelspec": {
   "display_name": "Python 3",
   "language": "python",
   "name": "python3"
  },
  "language_info": {
   "codemirror_mode": {
    "name": "ipython",
    "version": 3
   },
   "file_extension": ".py",
   "mimetype": "text/x-python",
   "name": "python",
   "nbconvert_exporter": "python",
   "pygments_lexer": "ipython3",
   "version": "3.6.1"
  }
 },
 "nbformat": 4,
 "nbformat_minor": 2
}
